{
  "nbformat": 4,
  "nbformat_minor": 0,
  "metadata": {
    "colab": {
      "provenance": [],
      "authorship_tag": "ABX9TyOwZc6O9MK2D7vMUAohl727",
      "include_colab_link": true
    },
    "kernelspec": {
      "name": "python3",
      "display_name": "Python 3"
    },
    "language_info": {
      "name": "python"
    }
  },
  "cells": [
    {
      "cell_type": "markdown",
      "metadata": {
        "id": "view-in-github",
        "colab_type": "text"
      },
      "source": [
        "<a href=\"https://colab.research.google.com/github/kennylin8212/tibame1224-1/blob/main/%E7%A8%8B%E5%BC%8F%E6%93%B4%E5%85%85(%E7%B5%90%E6%A7%8B%E6%80%A7).ipynb\" target=\"_parent\"><img src=\"https://colab.research.google.com/assets/colab-badge.svg\" alt=\"Open In Colab\"/></a>"
      ]
    },
    {
      "cell_type": "code",
      "execution_count": null,
      "metadata": {
        "colab": {
          "base_uri": "https://localhost:8080/"
        },
        "id": "EXa8k44J6QAz",
        "outputId": "a4971608-0ec3-4c75-8c82-84c812ef07c6"
      },
      "outputs": [
        {
          "output_type": "stream",
          "name": "stdout",
          "text": [
            "*\n",
            "**\n",
            "***\n",
            "****\n",
            "*****\n",
            "******\n",
            "*******\n",
            "********\n",
            "*********\n",
            "**********\n"
          ]
        }
      ],
      "source": [
        "i=0\n",
        "while i < 10:\n",
        "  print(\"*\" * (i+1))\n",
        "  i = i + 1\n"
      ]
    },
    {
      "cell_type": "code",
      "source": [
        "i=0\n",
        "while i < 10:\n",
        "  print(\" \" * (9 - i) + \"*\" * (i+1))\n",
        "  i = i + 1"
      ],
      "metadata": {
        "colab": {
          "base_uri": "https://localhost:8080/"
        },
        "id": "HvUGDRQa7JGW",
        "outputId": "e4bad4ee-57b5-4406-acd9-65d8f37f5cff"
      },
      "execution_count": null,
      "outputs": [
        {
          "output_type": "stream",
          "name": "stdout",
          "text": [
            "         *\n",
            "        **\n",
            "       ***\n",
            "      ****\n",
            "     *****\n",
            "    ******\n",
            "   *******\n",
            "  ********\n",
            " *********\n",
            "**********\n"
          ]
        }
      ]
    },
    {
      "cell_type": "markdown",
      "source": [
        "1.思考幾層數改變 EX: 10: 改成5或100 ...\n",
        "2.避免程式重複寫 使用代數"
      ],
      "metadata": {
        "id": "8UzascdiLCxU"
      }
    },
    {
      "cell_type": "code",
      "source": [
        "layer =10\n",
        "i=0\n",
        "while i < layer:\n",
        "  print(\" \" * (layer - 1 - i) + \"X\" * (i + 1) )\n",
        "  i = i + 1"
      ],
      "metadata": {
        "colab": {
          "base_uri": "https://localhost:8080/"
        },
        "collapsed": true,
        "id": "pxuypUmZIk0F",
        "outputId": "e53b9b2a-202b-4ca1-d29b-88a54b8e32d1"
      },
      "execution_count": null,
      "outputs": [
        {
          "output_type": "stream",
          "name": "stdout",
          "text": [
            "         X\n",
            "        XX\n",
            "       XXX\n",
            "      XXXX\n",
            "     XXXXX\n",
            "    XXXXXX\n",
            "   XXXXXXX\n",
            "  XXXXXXXX\n",
            " XXXXXXXXX\n",
            "XXXXXXXXXX\n"
          ]
        }
      ]
    },
    {
      "cell_type": "markdown",
      "source": [
        "避免同一行程式過長 使用代數增加可讀性(左邊幾個\"*\"搭配右邊幾個\"X\")"
      ],
      "metadata": {
        "id": "16XO_VLrM_sl"
      }
    },
    {
      "cell_type": "markdown",
      "source": [],
      "metadata": {
        "id": "iTJXkAI9M6zg"
      }
    },
    {
      "cell_type": "code",
      "source": [
        "layer =10\n",
        "i=0\n",
        "while i < layer:\n",
        "  lcount = layer - 1 - i\n",
        "  rcount = i + 1\n",
        "  print(\" \" * lcount + \"X\" * rcount )\n",
        "  i = i + 1"
      ],
      "metadata": {
        "colab": {
          "base_uri": "https://localhost:8080/"
        },
        "collapsed": true,
        "id": "jyXRfJiwIIy4",
        "outputId": "8cf7f91e-7051-4029-c603-8ee27ff60cc1"
      },
      "execution_count": null,
      "outputs": [
        {
          "output_type": "stream",
          "name": "stdout",
          "text": [
            "         X\n",
            "        XX\n",
            "       XXX\n",
            "      XXXX\n",
            "     XXXXX\n",
            "    XXXXXX\n",
            "   XXXXXXX\n",
            "  XXXXXXXX\n",
            " XXXXXXXXX\n",
            "XXXXXXXXXX\n"
          ]
        }
      ]
    },
    {
      "cell_type": "markdown",
      "source": [
        "避免同一行程式過長 使用代數增加可讀性&符號變動(左邊符號\"*\"搭配右邊符號\"X\")"
      ],
      "metadata": {
        "id": "46Q0Ta-FN_Gj"
      }
    },
    {
      "cell_type": "markdown",
      "source": [],
      "metadata": {
        "id": "lhfHJ3RLNjWJ"
      }
    },
    {
      "cell_type": "code",
      "source": [
        "layer = 10\n",
        "left,right = \" \", \"X\"\n",
        "i = 0\n",
        "while i < layer:\n",
        "  lcount = layer - 1 - i\n",
        "  rcount = i + 1\n",
        "  print(left * lcount + right * rcount )\n",
        "  i = i + 1"
      ],
      "metadata": {
        "colab": {
          "base_uri": "https://localhost:8080/"
        },
        "id": "658yrfb06cy2",
        "outputId": "5bd26ca6-8379-403f-abd5-6f6c2cdf0652"
      },
      "execution_count": null,
      "outputs": [
        {
          "output_type": "stream",
          "name": "stdout",
          "text": [
            "         X\n",
            "        XX\n",
            "       XXX\n",
            "      XXXX\n",
            "     XXXXX\n",
            "    XXXXXX\n",
            "   XXXXXXX\n",
            "  XXXXXXXX\n",
            " XXXXXXXXX\n",
            "XXXXXXXXXX\n"
          ]
        }
      ]
    }
  ]
}