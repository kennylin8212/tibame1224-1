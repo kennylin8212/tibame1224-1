{
  "nbformat": 4,
  "nbformat_minor": 0,
  "metadata": {
    "colab": {
      "provenance": [],
      "authorship_tag": "ABX9TyMvmoNB2zWkRE/7BJLinu3i",
      "include_colab_link": true
    },
    "kernelspec": {
      "name": "python3",
      "display_name": "Python 3"
    },
    "language_info": {
      "name": "python"
    }
  },
  "cells": [
    {
      "cell_type": "markdown",
      "metadata": {
        "id": "view-in-github",
        "colab_type": "text"
      },
      "source": [
        "<a href=\"https://colab.research.google.com/github/kennylin8212/tibame1224-1/blob/main/1_6%E4%BD%9C%E6%A5%AD_1.ipynb\" target=\"_parent\"><img src=\"https://colab.research.google.com/assets/colab-badge.svg\" alt=\"Open In Colab\"/></a>"
      ]
    },
    {
      "cell_type": "code",
      "execution_count": 37,
      "metadata": {
        "id": "7KX2zstjLKCe"
      },
      "outputs": [],
      "source": [
        "#Q1:假設我總共有一百層階梯,有兩種走路方式(一種是踏一層,第二種是踏兩層)\n",
        "#請問我到達第一百層的時候, 總共有幾種不同方式?\n",
        "#老師提示如下:\n",
        "\n",
        "prev1, prev2 = 0, 0\n",
        "total = 100\n",
        "for i in range(total):\n",
        "    # 主要要解決: prev1, prev2的設定\n",
        "\n",
        "\n",
        "\n",
        "\n",
        "\n",
        "    pass\n",
        "#print(\"走100階總共有\", total, \"種方式\")"
      ]
    },
    {
      "cell_type": "code",
      "source": [
        "#錯誤示範\n",
        "total = 3\n",
        "prev1, prev2 = 0, 0\n",
        "for i in range(total):\n",
        "    if prev1 <= 3:\n",
        "        layer = i + 1\n",
        "        prev1 = layer -1\n",
        "        prev1[i] = prev1 #prev1初始設定=1是整數型態 而整數並不支持像清單那樣的索引操作\n",
        "        print(layer)\n",
        "        print(prev1)"
      ],
      "metadata": {
        "collapsed": true,
        "colab": {
          "base_uri": "https://localhost:8080/",
          "height": 211
        },
        "id": "F5Llx4vAlOj5",
        "outputId": "47682d32-8ea7-4492-8618-f8a593846d53"
      },
      "execution_count": 131,
      "outputs": [
        {
          "output_type": "error",
          "ename": "TypeError",
          "evalue": "'int' object does not support item assignment",
          "traceback": [
            "\u001b[0;31m---------------------------------------------------------------------------\u001b[0m",
            "\u001b[0;31mTypeError\u001b[0m                                 Traceback (most recent call last)",
            "\u001b[0;32m<ipython-input-131-57e5022b5b56>\u001b[0m in \u001b[0;36m<cell line: 4>\u001b[0;34m()\u001b[0m\n\u001b[1;32m      6\u001b[0m         \u001b[0mlayer\u001b[0m \u001b[0;34m=\u001b[0m \u001b[0mi\u001b[0m \u001b[0;34m+\u001b[0m \u001b[0;36m1\u001b[0m\u001b[0;34m\u001b[0m\u001b[0;34m\u001b[0m\u001b[0m\n\u001b[1;32m      7\u001b[0m         \u001b[0mprev1\u001b[0m \u001b[0;34m=\u001b[0m \u001b[0mlayer\u001b[0m \u001b[0;34m-\u001b[0m\u001b[0;36m1\u001b[0m\u001b[0;34m\u001b[0m\u001b[0;34m\u001b[0m\u001b[0m\n\u001b[0;32m----> 8\u001b[0;31m         \u001b[0mprev1\u001b[0m\u001b[0;34m[\u001b[0m\u001b[0mi\u001b[0m\u001b[0;34m]\u001b[0m \u001b[0;34m=\u001b[0m \u001b[0mprev1\u001b[0m \u001b[0;31m#prev1初始設定=1是整數型態 而整數並不支持像清單那樣的索引操作\u001b[0m\u001b[0;34m\u001b[0m\u001b[0;34m\u001b[0m\u001b[0m\n\u001b[0m\u001b[1;32m      9\u001b[0m         \u001b[0mprint\u001b[0m\u001b[0;34m(\u001b[0m\u001b[0mlayer\u001b[0m\u001b[0;34m)\u001b[0m\u001b[0;34m\u001b[0m\u001b[0;34m\u001b[0m\u001b[0m\n\u001b[1;32m     10\u001b[0m         \u001b[0mprint\u001b[0m\u001b[0;34m(\u001b[0m\u001b[0mprev1\u001b[0m\u001b[0;34m)\u001b[0m\u001b[0;34m\u001b[0m\u001b[0;34m\u001b[0m\u001b[0m\n",
            "\u001b[0;31mTypeError\u001b[0m: 'int' object does not support item assignment"
          ]
        }
      ]
    },
    {
      "cell_type": "code",
      "source": [
        "#Q1解法1\n",
        "total = 100\n",
        "prev1 = [0] * total\n",
        "prev2 = [0] * total\n",
        "\n",
        "\n",
        "for i in range(total):\n",
        "    layer = i + 1\n",
        "    #第1階層不會有prev1與prev2\n",
        "    #走layer階總共有 N 種方式\n",
        "    if layer == 1:\n",
        "        N = 1\n",
        "        #print(layer)\n",
        "        #print(prev1)\n",
        "        #print(prev2)\n",
        "    #第2階層不會有prev2\n",
        "    elif layer <= 2:\n",
        "        prev1[i] = layer - 1\n",
        "        prev2[i] = prev1[i - 1]\n",
        "        N = 2\n",
        "        #print(layer)\n",
        "        #print(prev1)\n",
        "        #print(prev2)\n",
        "    #直到第4階層才讓prev1與prev2的清單皆產生出1&2\n",
        "    elif 3<= layer <= 4:\n",
        "        prev1[i] = layer - 1\n",
        "        prev2[i] = prev1[i - 1]\n",
        "        N = prev1[i] + prev2[i]\n",
        "        #print(layer)\n",
        "        #print(prev1)\n",
        "        #print(prev2)\n",
        "    #第5階層開始兩清單都會是費波那契數列\n",
        "    else:\n",
        "        prev1[i] = prev1[i - 1] + prev1[i - 2]\n",
        "        prev2[i] = prev1[i - 1]\n",
        "        N = prev1[i] + prev2[i]\n",
        "        #print(layer)\n",
        "        #print(prev1)\n",
        "        #print(prev2)\n",
        "    #print(\"走\",layer,\"階層總共有\",N,\"種方式\")\n",
        "print(\"走\",layer,\"階層總共有\",N,\"種方式\")"
      ],
      "metadata": {
        "colab": {
          "base_uri": "https://localhost:8080/"
        },
        "id": "vFewaJLohe0E",
        "outputId": "fd24a705-3da8-48a2-d979-9e2fd93ecefd"
      },
      "execution_count": 14,
      "outputs": [
        {
          "output_type": "stream",
          "name": "stdout",
          "text": [
            "走 100 階層總共有 573147844013817084101 種方式\n"
          ]
        }
      ]
    },
    {
      "cell_type": "code",
      "source": [
        "#Q1解法2(從第3層開始N會是費波那契數列)\n",
        "total = 100\n",
        "prev1 = [0] * total\n",
        "prev2 = [0] * total\n",
        "N = [0] * total\n",
        "\n",
        "for i in range(total):\n",
        "    layer = i + 1\n",
        "    #第1階層不會有prev1與prev2\n",
        "    #走layer階總共有 N 種方式\n",
        "    if layer == 1:\n",
        "        N[i] = layer\n",
        "        #print(layer)\n",
        "        #print(prev1)\n",
        "        #print(prev2)\n",
        "        #第2階層不會有prev2\n",
        "\n",
        "    elif layer <= 2:\n",
        "        prev1[i] = layer - 1\n",
        "        prev2[i] = prev1[i - 1]\n",
        "        N[i] = layer\n",
        "        #print(layer)\n",
        "        #print(prev1)\n",
        "        #print(prev2)\n",
        "    #直到第4階層才讓prev1與prev2的清單皆產生出1&2\n",
        "    #從第3層開始N會是費波那契數列\n",
        "    elif 3<= layer <= 4:\n",
        "        prev1[i] = layer - 1\n",
        "        prev2[i] = prev1[i - 1]\n",
        "        N[i] = N[i - 1] +N[i - 2]\n",
        "        #print(layer)\n",
        "        #print(prev1)\n",
        "        #print(prev2)\n",
        "    #第5階層開始兩清單也都會是費波那契數列\n",
        "    else:\n",
        "        prev1[i] = prev1[i - 1] + prev1[i - 2]\n",
        "        prev2[i] = prev1[i - 1]\n",
        "        N[i] = N[i - 1] +N[i - 2]\n",
        "        #print(layer)\n",
        "        #print(prev1)\n",
        "        #print(prev2)\n",
        "    #print(\"走\",layer,\"階層總共有\",N[layer-1],\"種方式\")\n",
        "\n",
        "print(\"走\",layer,\"階層總共有\",N[layer-1],\"種方式\")\n"
      ],
      "metadata": {
        "colab": {
          "base_uri": "https://localhost:8080/"
        },
        "id": "LFr42n0E2eTP",
        "outputId": "8b8ff65a-54c7-4854-8484-8f292652330a"
      },
      "execution_count": 38,
      "outputs": [
        {
          "output_type": "stream",
          "name": "stdout",
          "text": [
            "走 100 階層總共有 573147844013817084101 種方式\n"
          ]
        }
      ]
    },
    {
      "cell_type": "code",
      "source": [
        "#Q1解法3\n",
        "def count_methods(layer):\n",
        "    if layer <= 0:\n",
        "        return 0\n",
        "    elif layer == 1:\n",
        "        return 1\n",
        "    elif layer == 2:\n",
        "        return 2\n",
        "    else:\n",
        "        #methods = [0] * layer 索引範圍是 0 到 layer - 1 會與最後的 return methods[layer]矛盾衝突\n",
        "        methods = [0] * (layer + 1)\n",
        "        methods[0] = 1\n",
        "        methods[1] = 2\n",
        "\n",
        "        for i in range(2,layer): #第3層的索引範圍range(2,3)只會取2\n",
        "            methods[i] = methods[i - 1] + methods[i - 2] #methods[2] = methods[1] +methods[0] 從第3層開始N會是費波那契數列\n",
        "        return methods[i]\n",
        "\n",
        "N = count_methods(100)\n",
        "print(\"走100階層總共有\",N,\"種方式\")"
      ],
      "metadata": {
        "colab": {
          "base_uri": "https://localhost:8080/"
        },
        "id": "fvVNWxa820ew",
        "outputId": "f29d067c-6975-4a97-9a47-80ca767f4f44"
      },
      "execution_count": 123,
      "outputs": [
        {
          "output_type": "stream",
          "name": "stdout",
          "text": [
            "走100階層總共有 573147844013817084101 種方式\n"
          ]
        }
      ]
    },
    {
      "cell_type": "code",
      "source": [
        "#Gemini版本\n",
        "# prompt: #Q1:假設我總共有一百層階梯,有兩種走路方式(一種是踏一層,第二種是踏兩層)\n",
        "# #請問我到達第一百層的時候, 總共有幾種不同方式?\n",
        "\n",
        "def count_ways(n):\n",
        "    if n <= 0:\n",
        "        return 0\n",
        "    elif n == 1:\n",
        "        return 1\n",
        "    elif n == 2:\n",
        "        return 2\n",
        "    else:\n",
        "        dp = [0] * (n + 1)\n",
        "        dp[1] = 1\n",
        "        dp[2] = 2\n",
        "        for i in range(3, n + 1):\n",
        "            dp[i] = dp[i - 1] + dp[i - 2]\n",
        "        return dp[n]  ####對比上述做法?\n",
        "\n",
        "ways = count_ways(100)\n",
        "print(\"走100階總共有\", ways, \"種方式\")"
      ],
      "metadata": {
        "colab": {
          "base_uri": "https://localhost:8080/"
        },
        "id": "hxVjrjYvUlD8",
        "outputId": "6faac5d0-134b-4bdb-9fa4-a718f547a6c1"
      },
      "execution_count": 129,
      "outputs": [
        {
          "output_type": "stream",
          "name": "stdout",
          "text": [
            "走100階總共有 573147844013817084101 種方式\n"
          ]
        }
      ]
    }
  ]
}