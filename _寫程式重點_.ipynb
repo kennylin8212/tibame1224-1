{
  "nbformat": 4,
  "nbformat_minor": 0,
  "metadata": {
    "colab": {
      "provenance": [],
      "authorship_tag": "ABX9TyPnscCJJrgRkCZmRc+AdAat",
      "include_colab_link": true
    },
    "kernelspec": {
      "name": "python3",
      "display_name": "Python 3"
    },
    "language_info": {
      "name": "python"
    }
  },
  "cells": [
    {
      "cell_type": "markdown",
      "metadata": {
        "id": "view-in-github",
        "colab_type": "text"
      },
      "source": [
        "<a href=\"https://colab.research.google.com/github/kennylin8212/tibame1224-1/blob/main/_%E5%AF%AB%E7%A8%8B%E5%BC%8F%E9%87%8D%E9%BB%9E_.ipynb\" target=\"_parent\"><img src=\"https://colab.research.google.com/assets/colab-badge.svg\" alt=\"Open In Colab\"/></a>"
      ]
    },
    {
      "cell_type": "code",
      "execution_count": null,
      "metadata": {
        "id": "pEIyqJ8LFPoV"
      },
      "outputs": [],
      "source": []
    },
    {
      "cell_type": "markdown",
      "source": [
        "#*寫程式重點:\n",
        "##1.先想中文再翻譯成程式\n",
        "##2.善用代數\n",
        "###2-A.不要重複寫\n",
        "###2-B.思考程式擴充(改變題目時,程式只需要小修不用大修),也就是結構性\n",
        "###2-C.增加可讀性(避免同一行寫太長)\n",
        "\n",
        "##範例:\n",
        "https://colab.research.google.com/drive/1iKna5iG9w3GBL_oej87FTBSQMNJrTmwW#scrollTo=658yrfb06cy2\n",
        "\n",
        "\n",
        "#*練習程式方法:\n",
        "##1.看到程式碼練習寫中文註解\n"
      ],
      "metadata": {
        "id": "7xeahZuRFQx_"
      }
    },
    {
      "cell_type": "code",
      "source": [],
      "metadata": {
        "id": "pp47lE_aFUW-"
      },
      "execution_count": null,
      "outputs": []
    },
    {
      "cell_type": "markdown",
      "source": [
        "https://wieducorporation-mhk.my.webex.com/wbxmjs/joinservice/sites/wieducorporation-mhk.my/meeting/download/e5bc5e19fee19fd72dedf80cd1aa3103\n",
        "\n",
        "https://wieducorporation-mhk.my.webex.com/meet/GAD245"
      ],
      "metadata": {
        "id": "_842h7bwC2cl"
      }
    }
  ]
}