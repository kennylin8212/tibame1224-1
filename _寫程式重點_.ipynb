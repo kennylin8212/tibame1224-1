{
  "nbformat": 4,
  "nbformat_minor": 0,
  "metadata": {
    "colab": {
      "provenance": [],
      "authorship_tag": "ABX9TyPLWSOEzIqmkSSJ1AEtQxEB",
      "include_colab_link": true
    },
    "kernelspec": {
      "name": "python3",
      "display_name": "Python 3"
    },
    "language_info": {
      "name": "python"
    }
  },
  "cells": [
    {
      "cell_type": "markdown",
      "metadata": {
        "id": "view-in-github",
        "colab_type": "text"
      },
      "source": [
        "<a href=\"https://colab.research.google.com/github/kennylin8212/tibame1224-1/blob/main/_%E5%AF%AB%E7%A8%8B%E5%BC%8F%E9%87%8D%E9%BB%9E_.ipynb\" target=\"_parent\"><img src=\"https://colab.research.google.com/assets/colab-badge.svg\" alt=\"Open In Colab\"/></a>"
      ]
    },
    {
      "cell_type": "markdown",
      "source": [
        "#*寫程式重點:\n",
        "##1.先想中文再翻譯成程式\n",
        "##2.善用代數\n",
        "###2-A.不要重複寫\n",
        "###2-B.思考程式未來擴充(改變題目時,程式只需要小修不用大修)要有結構性\n",
        "###2-C.增加可讀性(讓其他使用者便於閱讀與了解,避免同一行寫太長)\n",
        "\n",
        "##範例:\n",
        "https://colab.research.google.com/drive/1iKna5iG9w3GBL_oej87FTBSQMNJrTmwW#scrollTo=658yrfb06cy2\n",
        "\n",
        "\n",
        "#*練習程式方法:\n",
        "##1.看到程式碼練習寫中文註解\n",
        "\n",
        "\n"
      ],
      "metadata": {
        "id": "7xeahZuRFQx_"
      }
    },
    {
      "cell_type": "markdown",
      "source": [
        "#*迴圈筆記統整\n",
        "\n",
        "```python\n",
        "###迴圈三大類型統整\n",
        "  一.固定次數迴圈 -> for i in range(次)\n",
        "  二.走過群集(str/list/...) -> for 名稱 in 群\n",
        "  三.其他條件迴圈 -> While  (True + break)\n",
        "  ??.通常三&四屬於記憶型迴圈,累加的概念,記憶體要取個名字放在迴圈外面例如total\n",
        "\n",
        "  #一.固定次數迴圈:兩種寫法(第二種較簡略)\n",
        "    1.準備一個計數器\n",
        "      初始化: i = 0\n",
        "      判斷: i < 10\n",
        "      增加: i = i + 1\n",
        "    \n",
        "      i = 0\n",
        "      while i < 10:\n",
        "        print()\n",
        "        i = i + 1\n",
        "\n",
        "      好習慣: 這三行絕對不改\n",
        "      次數N就在<後面 (10次迴圈)\n",
        "      數: 0 1 ... N-1(從0數到9)\n",
        "\n",
        "    2. for i in range(layer):\n",
        "        print()\n",
        "        layer即為初始設定迴圈做幾層(N)\n",
        "        課程前兩part迴圈都可用此\n",
        "\n",
        "  #二.走過群集(str/list/...):\n",
        "    通常用在有字串或清單等群集的計算或分類\n",
        "    例如計算清單中的數字加總,或判斷字串中英文字母大寫還小寫\n",
        "\n",
        "      for 名稱 in 群:\n",
        "      for s in scores:\n",
        "        print()\n",
        "\n",
        "  #三.其他條件迴圈-> While  (True + break)\n",
        "    通常用在隨機結果不確定迴圈何時結束,例如完全平方日或猜拳累積贏三把才獲勝(非迴圈僅做三次,搭配if設定條件後 + break跳出迴圈)\n",
        "    \n",
        "    一般固定次數也可用此迴圈,但While後面可先不設定條件以True取代,等最後在下條件if + break 增加彈性\n",
        "\n",
        "    相對一般固定條件迴圈優點統整如下:\n",
        "    1. 不用在while後面塞下所有條件,不用塞太多複雜判斷如and/or(地點自由)\n",
        "    2. 任意時間判斷(時間自由)\n",
        "    3. 是妳可以做完收尾工作才結束迴圈(流程自由)\n",
        "    4. 隱性好處:有時候結束講中文會比較容易\n",
        "```\n"
      ],
      "metadata": {
        "id": "RQ-8fJ5kwlRc"
      }
    },
    {
      "cell_type": "markdown",
      "source": [
        "相關範例連結如下:\n",
        "\n",
        "[迴圈比較for i in range(次) VS  for 名稱 in 群  ](https://colab.research.google.com/drive/1HaUQVTkh1R8xBDQ2IN4PmkeMj0r0maU8#scrollTo=dnrCOqFYXoue)\n"
      ],
      "metadata": {
        "id": "uETbG9_fgVxg"
      }
    },
    {
      "cell_type": "markdown",
      "source": [
        "\n",
        "[其他條件迴圈範例:](https://colab.research.google.com/drive/1n8PQhwBK4K3mZw4yVmFIFI3Bt1k3XNa5#scrollTo=DqTi48sPkxD9)\n",
        "            \n",
        "        \n"
      ],
      "metadata": {
        "id": "9neMjDIDhdR5"
      }
    }
  ]
}