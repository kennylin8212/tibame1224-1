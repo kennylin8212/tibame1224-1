{
  "nbformat": 4,
  "nbformat_minor": 0,
  "metadata": {
    "colab": {
      "provenance": [],
      "authorship_tag": "ABX9TyOCqqPgJYJ+R+K45wFGt8gx",
      "include_colab_link": true
    },
    "kernelspec": {
      "name": "python3",
      "display_name": "Python 3"
    },
    "language_info": {
      "name": "python"
    }
  },
  "cells": [
    {
      "cell_type": "markdown",
      "metadata": {
        "id": "view-in-github",
        "colab_type": "text"
      },
      "source": [
        "<a href=\"https://colab.research.google.com/github/kennylin8212/tibame1224-1/blob/main/%E7%B7%B4%E7%BF%92_%E6%B8%AC%E8%A9%A6%E6%95%B8%E6%97%A5%E6%9C%9F.ipynb\" target=\"_parent\"><img src=\"https://colab.research.google.com/assets/colab-badge.svg\" alt=\"Open In Colab\"/></a>"
      ]
    },
    {
      "cell_type": "code",
      "execution_count": null,
      "metadata": {
        "colab": {
          "base_uri": "https://localhost:8080/"
        },
        "id": "x0K7WOXFy5oS",
        "outputId": "d639c56e-12de-4f6d-e384-8d6cf94455fe"
      },
      "outputs": [
        {
          "output_type": "stream",
          "name": "stdout",
          "text": [
            "2024/12/31\n",
            "2025/01/01\n",
            "2025/01/02\n",
            "2025/01/03\n",
            "2025/01/04\n",
            "2025/01/05\n",
            "2025/01/06\n",
            "2025/01/07\n",
            "2025/01/08\n",
            "2025/01/09\n"
          ]
        }
      ],
      "source": [
        "#給特定日期,往後數10天\n",
        "import datetime\n",
        "today = 20241230\n",
        "y = today // 10000\n",
        "m = today % 10000 // 100\n",
        "d = today % 100\n",
        "start = datetime.datetime(y,m,d)\n",
        "\n",
        "for i in range(10):\n",
        "    start = start + datetime.timedelta(days=1)\n",
        "    print(start.strftime(\"%Y/%m/%d\"))"
      ]
    },
    {
      "cell_type": "code",
      "source": [
        "#自行輸入特定日期並檢查日期是否合法,合法才往後數10天\n",
        "#閏年定義的函數\n",
        "def is_leap_year(year):\n",
        "    if year % 400 == 0:\n",
        "        return True\n",
        "    elif year % 100 == 0:\n",
        "        return False\n",
        "    elif year % 4 == 0:\n",
        "        return True\n",
        "    else:\n",
        "        return False\n",
        "\n",
        "def is_valid_date(n):\n",
        "    year = n // 10000\n",
        "    last4 = n % 10000\n",
        "    day = last4 % 100\n",
        "    month = last4 // 100\n",
        "    # print(year, month, day)\n",
        "\n",
        "    max_days = [31, 28, 31, 30, 31, 30, 31, 31, 30, 31, 30, 31]\n",
        "    if 1 <= month <= 12:\n",
        "        month_day = max_days[month-1]\n",
        "        # 考慮閏年\n",
        "        if month == 2 and is_leap_year(year) == True:\n",
        "            month_day = month_day + 1\n",
        "\n",
        "        if 1 <= day <= month_day:\n",
        "            # print(\"合理\")\n",
        "            return True\n",
        "        else:\n",
        "            # print(\"不合理日期(天)\")\n",
        "            return False\n",
        "    else:\n",
        "        # print(\"不合理日期(月)\")\n",
        "        return False\n",
        "\n",
        "import datetime\n",
        "today = int(input(\"請輸入日期:\"))\n",
        "y = today // 10000\n",
        "m = today % 10000 // 100\n",
        "d = today % 100\n",
        "\n",
        "if is_valid_date(today) == True:\n",
        "    start = datetime.datetime(y,m,d)\n",
        "    #上列不能寫在if檢查外層,因為不合規日期在一開始輸入就會被擋不符合datetime規則(不是迴圈的問題)\n",
        "    for i in range(10):\n",
        "        start = start + datetime.timedelta(days=1)\n",
        "        print(start.strftime(\"%Y/%m/%d\"))\n",
        "\n",
        "else:\n",
        "    print(\"您輸入的日期不合理\")"
      ],
      "metadata": {
        "colab": {
          "base_uri": "https://localhost:8080/"
        },
        "id": "43tNsuZhzJ-g",
        "outputId": "f378b592-4f24-4de4-98ae-8e7a48a3ab4a"
      },
      "execution_count": 17,
      "outputs": [
        {
          "output_type": "stream",
          "name": "stdout",
          "text": [
            "請輸入日期:20240229\n",
            "2024/03/01\n",
            "2024/03/02\n",
            "2024/03/03\n",
            "2024/03/04\n",
            "2024/03/05\n",
            "2024/03/06\n",
            "2024/03/07\n",
            "2024/03/08\n",
            "2024/03/09\n",
            "2024/03/10\n"
          ]
        }
      ]
    },
    {
      "cell_type": "markdown",
      "source": [
        "```python\n",
        "每4潤 100不潤 400潤\n",
        "1980 -> 潤 4的倍數 不是100的倍數\n",
        "2000 -> 潤 4的倍數 也是100的倍數 也是400的倍數\n",
        "3000 -> 不潤 4的倍數 也是100的倍數 但不是400的倍數\n",
        "```\n",
        "[閏年計算器](https://calculatorlib.com/tw/leap-year-calculator?calculationType=single&year=2024&startYear=2020&endYear=2030)"
      ],
      "metadata": {
        "id": "qM8bOA30WPwT"
      }
    },
    {
      "cell_type": "code",
      "source": [
        "#錯誤示範\n",
        "today = 20241231\n",
        "for i in range(10):\n",
        "    today = today + 1\n",
        "    print(today)"
      ],
      "metadata": {
        "colab": {
          "base_uri": "https://localhost:8080/"
        },
        "id": "YLK1LtqP38Ba",
        "outputId": "dd75f48a-315f-4743-859e-f53f7416e78f"
      },
      "execution_count": null,
      "outputs": [
        {
          "output_type": "stream",
          "name": "stdout",
          "text": [
            "20241232\n",
            "20241233\n",
            "20241234\n",
            "20241235\n",
            "20241236\n",
            "20241237\n",
            "20241238\n",
            "20241239\n",
            "20241240\n",
            "20241241\n"
          ]
        }
      ]
    }
  ]
}