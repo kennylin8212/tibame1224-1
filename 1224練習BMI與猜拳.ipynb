{
  "nbformat": 4,
  "nbformat_minor": 0,
  "metadata": {
    "colab": {
      "provenance": [],
      "authorship_tag": "ABX9TyN4ErAKs6o23WwUiA0kKhwM",
      "include_colab_link": true
    },
    "kernelspec": {
      "name": "python3",
      "display_name": "Python 3"
    },
    "language_info": {
      "name": "python"
    }
  },
  "cells": [
    {
      "cell_type": "markdown",
      "metadata": {
        "id": "view-in-github",
        "colab_type": "text"
      },
      "source": [
        "<a href=\"https://colab.research.google.com/github/kennylin8212/tibame1224-1/blob/main/1224%E7%B7%B4%E7%BF%92BMI%E8%88%87%E7%8C%9C%E6%8B%B3.ipynb\" target=\"_parent\"><img src=\"https://colab.research.google.com/assets/colab-badge.svg\" alt=\"Open In Colab\"/></a>"
      ]
    },
    {
      "cell_type": "code",
      "execution_count": null,
      "metadata": {
        "colab": {
          "base_uri": "https://localhost:8080/"
        },
        "id": "gcUBvL0nlqfc",
        "outputId": "65a7f6bb-e200-4c0b-abbf-4ece468427d8"
      },
      "outputs": [
        {
          "output_type": "stream",
          "name": "stdout",
          "text": [
            "請輸入體重66\n",
            "請輸入身高173\n",
            "你的體重是:66.0\n",
            "你的身高重是:173.0\n",
            "你的bmi是:22.052190183434128\n",
            "正常\n"
          ]
        }
      ],
      "source": [
        "# bmi = weight(kg) / height(m) ^ 2\n",
        "weight = float(input(\"請輸入體重\"))\n",
        "height =float(input(\"請輸入身高\"))\n",
        "bmi = weight / (height / 100) ** 2\n",
        "print(\"你的體重是:\" + str(weight))\n",
        "print(\"你的身高重是:\" + str(height))\n",
        "print(\"你的bmi是:\" + str(bmi))\n",
        "\n",
        "if bmi > 25:\n",
        "    print(\"過重\")\n",
        "    print(\"少吃多動\")\n",
        "else:\n",
        "    print(\"正常\")"
      ]
    },
    {
      "cell_type": "code",
      "source": [
        "import random\n",
        "\n",
        "my = int(input(\"0.剪刀 1.石頭 2.布:\"))\n",
        "com = random.randint(0, 2)\n",
        "trans = [\"剪刀\", \"石頭\", \"布\"]\n",
        "print(\"我出的:\", trans[my])\n",
        "print(\"電腦的:\", trans[com])\n",
        "\n",
        "if my == (com + 1) % 3:\n",
        "    print(\"Win\")\n",
        "elif com == (my + 1) % 3:\n",
        "    print(\"lose\")\n",
        "else:\n",
        "    print(\"Even\")"
      ],
      "metadata": {
        "colab": {
          "base_uri": "https://localhost:8080/"
        },
        "id": "1_c3X1xhhedZ",
        "outputId": "1f0ce415-6134-4d3e-f834-50b5ba656a2f"
      },
      "execution_count": null,
      "outputs": [
        {
          "output_type": "stream",
          "name": "stdout",
          "text": [
            "0.剪刀 1.石頭 2.布:0\n",
            "我出的: 剪刀\n",
            "電腦的: 布\n",
            "Win\n"
          ]
        }
      ]
    },
    {
      "cell_type": "code",
      "source": [
        "import random\n",
        "\n",
        "my = int(input(\"0.剪刀 1.石頭 2.布:\"))\n",
        "com = random.randint(0, 2)\n",
        "trans = [\"剪刀\", \"石頭\", \"布\"]\n",
        " #若遊戲出拳選項不只有上述範例三種\n",
        "player_character = len(trans)\n",
        "print(\"我出的:\", trans[my])\n",
        "print(\"電腦的:\", trans[com])\n",
        "\n",
        "if my == (com + 1) % player_character:\n",
        "    print(\"Win\")\n",
        "elif com == (my + 1) % player_character:\n",
        "    print(\"lose\")\n",
        "else:\n",
        "    print(\"Even\")"
      ],
      "metadata": {
        "colab": {
          "base_uri": "https://localhost:8080/"
        },
        "id": "gu91T7k-tFoV",
        "outputId": "be7de865-6c73-452e-ea5a-55778c2d4d6e"
      },
      "execution_count": null,
      "outputs": [
        {
          "output_type": "stream",
          "name": "stdout",
          "text": [
            "0.剪刀 1.石頭 2.布:2\n",
            "我出的: 布\n",
            "電腦的: 石頭\n",
            "Win\n"
          ]
        }
      ]
    },
    {
      "cell_type": "markdown",
      "source": [
        "自己出題練習 棒打老虎雞吃蟲 類似上述案例,改成 % 4\n",
        "\n",
        "```\n",
        "# 此內容會顯示為程式碼\n",
        "```\n",
        "\n"
      ],
      "metadata": {
        "id": "CAmZHK1vGFB6"
      }
    },
    {
      "cell_type": "code",
      "source": [
        "import random\n",
        "\n",
        "my = int(input(\"0.棒 1.虎 2.雞 3.蟲:\"))\n",
        "com = random.randint(0, 3)\n",
        "trans = [\"棒\", \"虎\", \"雞\", \"蟲\"]\n",
        "print(\"我出的:\", trans[my])\n",
        "print(\"電腦的:\", trans[com])\n",
        "\n",
        "if my == (com - 1) % 4:\n",
        "    print(\"Win\")\n",
        "elif com == (my - 1) % 4:\n",
        "    print(\"lose\")\n",
        "else:\n",
        "    print(\"Even\")"
      ],
      "metadata": {
        "colab": {
          "base_uri": "https://localhost:8080/"
        },
        "id": "3cvap0x7GkZM",
        "outputId": "2e21bfd4-6a17-4106-94b9-4765619d06c5"
      },
      "execution_count": null,
      "outputs": [
        {
          "output_type": "stream",
          "name": "stdout",
          "text": [
            "0.棒 1.虎 2.雞 3.蟲:3\n",
            "我出的: 蟲\n",
            "電腦的: 雞\n",
            "lose\n"
          ]
        }
      ]
    },
    {
      "cell_type": "code",
      "source": [
        "import random\n",
        "\n",
        "my = int(input(\"0.棒 1.虎 2.雞 3.蟲:\"))\n",
        "com = random.randint(0, 3)\n",
        "trans = [\"棒\", \"虎\", \"雞\", \"蟲\"]\n",
        " #若遊戲出拳選項不只有上述範例三種\n",
        "player_character = len(trans)\n",
        "print(\"我出的:\", trans[my])\n",
        "print(\"電腦的:\", trans[com])\n",
        "\n",
        "if my == (com - 1) % player_character:\n",
        "    print(\"Win\")\n",
        "elif com == (my - 1) % player_character:\n",
        "    print(\"lose\")\n",
        "else:\n",
        "    print(\"Even\")"
      ],
      "metadata": {
        "id": "3VT1V6_eeHtQ",
        "colab": {
          "base_uri": "https://localhost:8080/"
        },
        "outputId": "08d64d56-1a98-45b2-f730-9a06635caa21"
      },
      "execution_count": null,
      "outputs": [
        {
          "output_type": "stream",
          "name": "stdout",
          "text": [
            "0.棒 1.虎 2.雞 3.蟲:3\n",
            "我出的: 蟲\n",
            "電腦的: 棒\n",
            "Win\n"
          ]
        }
      ]
    }
  ]
}