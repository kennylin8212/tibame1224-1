{
  "nbformat": 4,
  "nbformat_minor": 0,
  "metadata": {
    "colab": {
      "provenance": [],
      "authorship_tag": "ABX9TyMH3d1xse4LmNKYb+scXRT7",
      "include_colab_link": true
    },
    "kernelspec": {
      "name": "python3",
      "display_name": "Python 3"
    },
    "language_info": {
      "name": "python"
    }
  },
  "cells": [
    {
      "cell_type": "markdown",
      "metadata": {
        "id": "view-in-github",
        "colab_type": "text"
      },
      "source": [
        "<a href=\"https://colab.research.google.com/github/kennylin8212/tibame1224-1/blob/main/%E6%B8%AC%E8%A9%A6%E7%84%A1%E7%AA%AE%E8%BF%B4%E5%9C%88%E7%AD%89%E7%9B%B8%E9%97%9C%E9%8C%AF%E8%AA%A4%E7%A4%BA%E7%AF%84.ipynb\" target=\"_parent\"><img src=\"https://colab.research.google.com/assets/colab-badge.svg\" alt=\"Open In Colab\"/></a>"
      ]
    },
    {
      "cell_type": "code",
      "execution_count": null,
      "metadata": {
        "colab": {
          "base_uri": "https://localhost:8080/"
        },
        "id": "1NlVzcQeSMhv",
        "outputId": "0efffc90-fd74-42cb-e91d-e87d3d95f1a3"
      },
      "outputs": [
        {
          "output_type": "stream",
          "name": "stdout",
          "text": [
            "請輸入日期:20241231\n",
            "異常\n"
          ]
        }
      ],
      "source": [
        "#自行輸入特定日期(today),往後數10個完全平方日\n",
        "def is_leap_year(year):\n",
        "    if year % 400 == 0:\n",
        "        return True\n",
        "    elif year % 100 == 0:\n",
        "        return False\n",
        "    elif year % 4 == 0:\n",
        "        return True\n",
        "    else:\n",
        "        return False\n",
        "\n",
        "def is_valid_date(n):\n",
        "    year = n // 10000\n",
        "    last4 = n % 10000\n",
        "    day = last4 % 100\n",
        "    month = last4 // 100\n",
        "    # print(year, month, day)\n",
        "\n",
        "    max_days = [31, 28, 31, 30, 31, 30, 31, 31, 30, 31, 30, 31]\n",
        "    if 1 <= month <= 12:\n",
        "        month_day = max_days[month-1]\n",
        "        # 考慮閏年\n",
        "        if month == 2 and is_leap_year(year) == True:\n",
        "            month_day = month_day + 1\n",
        "\n",
        "        if 1 <= day <= month_day:\n",
        "            # print(\"合理\")\n",
        "            return True\n",
        "        else:\n",
        "            # print(\"不合理日期(天)\")\n",
        "            return False\n",
        "    else:\n",
        "        # print(\"不合理日期(月)\")\n",
        "        return False\n",
        "\n",
        "import datetime\n",
        "today = int(input(\"請輸入日期:\"))\n",
        "y = today // 10000\n",
        "m = today % 10000 // 100\n",
        "d = today % 100\n",
        "count = 0\n",
        "\n",
        "if is_valid_date(today) == True:\n",
        "    while True:\n",
        "        start = datetime.datetime(y,m,d)\n",
        "        start = start + datetime.timedelta(days=1)\n",
        "        #start只是一個 datetime 對象(物件),並非數字也不是字串型態\n",
        "        #strftime 將 datetime 對象轉換為特定格式的字串\n",
        "        #後續math.isqrt() 需要操作整數,故轉換成int\n",
        "        date_as_int = int(start.strftime(\"%Y%m%d\"))\n",
        "        import math\n",
        "        sqrt_today = math.isqrt(date_as_int)\n",
        "        if sqrt_today * sqrt_today == date_as_int:\n",
        "          print(start.strftime(\"%Y/%m/%d\"))\n",
        "          count = count +1\n",
        "        if count == 10:\n",
        "            break\n",
        "        else:\n",
        "            print(\"異常\")\n",
        "            break\n",
        "else:\n",
        "    print(\"您輸入的日期不合理\")"
      ]
    },
    {
      "cell_type": "markdown",
      "source": [
        "        start = datetime.datetime(y,m,d)20241231\n",
        "        start = start + datetime.timedelta(days=1)20250101  \n",
        "        迴圈中兩個start放在一起會衝突形成無窮迴圈\n",
        "        \n",
        "        本次迴圈+1後下次再進迴圈又還原再+1 還是永遠停留在20250101\n",
        "        count 永遠不會等於 10 永遠不會跳出迴圈\n",
        "        若本例沒有 else 判斷異常的話,就會線如無窮迴圈沒答案\n",
        "        \n",
        "        解決方法: 應把第一個start(類似totoal = 0 )放在迴圈外\n"
      ],
      "metadata": {
        "id": "OCS4Thn4xk53"
      }
    },
    {
      "cell_type": "code",
      "source": [
        "#若沒有把第一個a放外面,跑十次迴圈都不會累加,始終留在1\n",
        "for i in range(10):\n",
        "    a = 0\n",
        "    a= a + 1\n",
        "print(a)\n",
        "#十次迴圈跑完才印"
      ],
      "metadata": {
        "colab": {
          "base_uri": "https://localhost:8080/"
        },
        "id": "rHF4Sn5oz07U",
        "outputId": "62706d19-112f-4792-ca16-3583f75e0094"
      },
      "execution_count": 6,
      "outputs": [
        {
          "output_type": "stream",
          "name": "stdout",
          "text": [
            "1\n"
          ]
        }
      ]
    },
    {
      "cell_type": "code",
      "source": [
        "for i in range(10):\n",
        "    a = 0\n",
        "    a= a + 1\n",
        "    print(a)\n",
        "#每一次迴圈都印"
      ],
      "metadata": {
        "colab": {
          "base_uri": "https://localhost:8080/"
        },
        "id": "Y-EJTz670r4e",
        "outputId": "5153397f-1414-4a32-bdae-b0cc168796ad"
      },
      "execution_count": 7,
      "outputs": [
        {
          "output_type": "stream",
          "name": "stdout",
          "text": [
            "1\n",
            "1\n",
            "1\n",
            "1\n",
            "1\n",
            "1\n",
            "1\n",
            "1\n",
            "1\n",
            "1\n"
          ]
        }
      ]
    }
  ]
}